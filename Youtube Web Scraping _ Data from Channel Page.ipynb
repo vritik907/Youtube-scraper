{
 "cells": [
  {
   "cell_type": "code",
   "execution_count": 61,
   "id": "9ca8db1f",
   "metadata": {},
   "outputs": [],
   "source": [
    "import numpy as np\n",
    "import pandas as pd\n",
    "\n",
    "\n",
    "import chromedriver_binary\n",
    "from bs4 import BeautifulSoup\n",
    "from selenium import webdriver"
   ]
  },
  {
   "cell_type": "code",
   "execution_count": 62,
   "id": "d986de4c",
   "metadata": {},
   "outputs": [],
   "source": [
    "browser = webdriver.Chrome()\n",
    "\n",
    "browser.get('https://www.youtube.com/c/GeeksforGeeksVideos/videos')"
   ]
  },
  {
   "cell_type": "code",
   "execution_count": 67,
   "id": "496acb6c",
   "metadata": {},
   "outputs": [],
   "source": [
    "soup = BeautifulSoup(browser.page_source, 'html.parser')"
   ]
  },
  {
   "cell_type": "code",
   "execution_count": 86,
   "id": "fb5f21d6",
   "metadata": {},
   "outputs": [],
   "source": [
    "data = []\n",
    "\n",
    "for sp in soup.find_all('ytd-rich-item-renderer'):\n",
    "    \n",
    "    title      = sp.find('a', class_ = 'yt-simple-endpoint focus-on-expand style-scope ytd-rich-grid-media').text\n",
    "    video_link = sp.find('a', class_ = 'yt-simple-endpoint focus-on-expand style-scope ytd-rich-grid-media').get('href')\n",
    "\n",
    "    try:\n",
    "        views  = sp.find_all('span', class_ = 'inline-metadata-item style-scope ytd-video-meta-block')[0].text\n",
    "    except:\n",
    "        views  = np.nan\n",
    "    try:\n",
    "        date_time  = sp.find_all('span', class_ = 'inline-metadata-item style-scope ytd-video-meta-block')[1].text\n",
    "    except:\n",
    "        date_time  = np.nan\n",
    "        \n",
    "    try:\n",
    "        thumbnail_link = sp.find('a', class_ = 'yt-simple-endpoint inline-block style-scope ytd-thumbnail').get('href')\n",
    "    except:\n",
    "        thumbnail_link = np.nan\n",
    "\n",
    "    data.append([title, views, date_time, video_link, thumbnail_link])"
   ]
  },
  {
   "cell_type": "code",
   "execution_count": 87,
   "id": "e98febb6-6938-4a1e-ad65-94f45bc6b872",
   "metadata": {},
   "outputs": [
    {
     "data": {
      "text/plain": [
       "'1 year ago'"
      ]
     },
     "execution_count": 87,
     "metadata": {},
     "output_type": "execute_result"
    }
   ],
   "source": [
    "date_time  = sp.find_all('span', class_ = 'inline-metadata-item style-scope ytd-video-meta-block')[1].text\n",
    "date_time"
   ]
  },
  {
   "cell_type": "code",
   "execution_count": 88,
   "id": "bae117d0",
   "metadata": {},
   "outputs": [
    {
     "data": {
      "text/plain": [
       "285"
      ]
     },
     "execution_count": 88,
     "metadata": {},
     "output_type": "execute_result"
    }
   ],
   "source": [
    "len(data)"
   ]
  },
  {
   "cell_type": "code",
   "execution_count": 89,
   "id": "cf81a024",
   "metadata": {},
   "outputs": [
    {
     "data": {
      "text/plain": [
       "[\"Why can't Gen Z get a job?\",\n",
       " '1.7K views',\n",
       " '2 weeks ago',\n",
       " '/watch?v=JZo33ruBBDA',\n",
       " '/watch?v=JZo33ruBBDA']"
      ]
     },
     "execution_count": 89,
     "metadata": {},
     "output_type": "execute_result"
    }
   ],
   "source": [
    "data[3]"
   ]
  },
  {
   "cell_type": "code",
   "execution_count": 90,
   "id": "3b09726a",
   "metadata": {},
   "outputs": [],
   "source": [
    "df = pd.DataFrame(data, columns = ['title','views','date_time','video_link','thumbnail_link'])"
   ]
  },
  {
   "cell_type": "code",
   "execution_count": 91,
   "id": "532c1739",
   "metadata": {},
   "outputs": [
    {
     "data": {
      "text/html": [
       "<div>\n",
       "<style scoped>\n",
       "    .dataframe tbody tr th:only-of-type {\n",
       "        vertical-align: middle;\n",
       "    }\n",
       "\n",
       "    .dataframe tbody tr th {\n",
       "        vertical-align: top;\n",
       "    }\n",
       "\n",
       "    .dataframe thead th {\n",
       "        text-align: right;\n",
       "    }\n",
       "</style>\n",
       "<table border=\"1\" class=\"dataframe\">\n",
       "  <thead>\n",
       "    <tr style=\"text-align: right;\">\n",
       "      <th></th>\n",
       "      <th>title</th>\n",
       "      <th>views</th>\n",
       "      <th>date_time</th>\n",
       "      <th>video_link</th>\n",
       "      <th>thumbnail_link</th>\n",
       "    </tr>\n",
       "  </thead>\n",
       "  <tbody>\n",
       "    <tr>\n",
       "      <th>0</th>\n",
       "      <td>I went to the House of a Zomato Software Engin...</td>\n",
       "      <td>13K views</td>\n",
       "      <td>4 days ago</td>\n",
       "      <td>/watch?v=1WCuuJYvPFc&amp;pp=0gcJCb8Ag7Wk3p_U</td>\n",
       "      <td>/watch?v=1WCuuJYvPFc&amp;pp=0gcJCb8Ag7Wk3p_U</td>\n",
       "    </tr>\n",
       "    <tr>\n",
       "      <th>1</th>\n",
       "      <td>Three 90 Challenge: Ending on 31st March!</td>\n",
       "      <td>8.6K views</td>\n",
       "      <td>6 days ago</td>\n",
       "      <td>/watch?v=j_qF5z5jazY&amp;pp=0gcJCb8Ag7Wk3p_U</td>\n",
       "      <td>/watch?v=j_qF5z5jazY&amp;pp=0gcJCb8Ag7Wk3p_U</td>\n",
       "    </tr>\n",
       "    <tr>\n",
       "      <th>2</th>\n",
       "      <td>GSoC 2025 | Everything You Need to Know</td>\n",
       "      <td>30K views</td>\n",
       "      <td>13 days ago</td>\n",
       "      <td>/watch?v=4U8t0WUQGps</td>\n",
       "      <td>/watch?v=4U8t0WUQGps</td>\n",
       "    </tr>\n",
       "    <tr>\n",
       "      <th>3</th>\n",
       "      <td>Why can't Gen Z get a job?</td>\n",
       "      <td>1.7K views</td>\n",
       "      <td>2 weeks ago</td>\n",
       "      <td>/watch?v=JZo33ruBBDA</td>\n",
       "      <td>/watch?v=JZo33ruBBDA</td>\n",
       "    </tr>\n",
       "    <tr>\n",
       "      <th>4</th>\n",
       "      <td>Prompts to 10x Your Coding Journey 🚀</td>\n",
       "      <td>3K views</td>\n",
       "      <td>2 weeks ago</td>\n",
       "      <td>/watch?v=N2FP3BbyrqY</td>\n",
       "      <td>/watch?v=N2FP3BbyrqY</td>\n",
       "    </tr>\n",
       "    <tr>\n",
       "      <th>...</th>\n",
       "      <td>...</td>\n",
       "      <td>...</td>\n",
       "      <td>...</td>\n",
       "      <td>...</td>\n",
       "      <td>...</td>\n",
       "    </tr>\n",
       "    <tr>\n",
       "      <th>280</th>\n",
       "      <td>Master Data Science Concepts: Data Lake in 60 ...</td>\n",
       "      <td>2.6K views</td>\n",
       "      <td>1 year ago</td>\n",
       "      <td>/watch?v=KGD-T3bhFEA</td>\n",
       "      <td>/watch?v=KGD-T3bhFEA</td>\n",
       "    </tr>\n",
       "    <tr>\n",
       "      <th>281</th>\n",
       "      <td>Choosing the Right Cloud Provider | AWS vs Azu...</td>\n",
       "      <td>8.9K views</td>\n",
       "      <td>1 year ago</td>\n",
       "      <td>/watch?v=YbPnhezNaUE</td>\n",
       "      <td>/watch?v=YbPnhezNaUE</td>\n",
       "    </tr>\n",
       "    <tr>\n",
       "      <th>282</th>\n",
       "      <td>A Journey from NOKIA to PAYPAL | Ft. Palak Awa...</td>\n",
       "      <td>3.3K views</td>\n",
       "      <td>1 year ago</td>\n",
       "      <td>/watch?v=6UUTPA0l748</td>\n",
       "      <td>/watch?v=6UUTPA0l748</td>\n",
       "    </tr>\n",
       "    <tr>\n",
       "      <th>283</th>\n",
       "      <td>Make Best Team For ICC Cricket World 2023 | Pr...</td>\n",
       "      <td>484 views</td>\n",
       "      <td>1 year ago</td>\n",
       "      <td>/watch?v=ItY3minkI3o</td>\n",
       "      <td>/watch?v=ItY3minkI3o</td>\n",
       "    </tr>\n",
       "    <tr>\n",
       "      <th>284</th>\n",
       "      <td>Interview Strategies for Freshers | GeeksforGeeks</td>\n",
       "      <td>5.9K views</td>\n",
       "      <td>1 year ago</td>\n",
       "      <td>/watch?v=tmg6d3T_T6Q</td>\n",
       "      <td>/watch?v=tmg6d3T_T6Q</td>\n",
       "    </tr>\n",
       "  </tbody>\n",
       "</table>\n",
       "<p>285 rows × 5 columns</p>\n",
       "</div>"
      ],
      "text/plain": [
       "                                                 title       views  \\\n",
       "0    I went to the House of a Zomato Software Engin...   13K views   \n",
       "1            Three 90 Challenge: Ending on 31st March!  8.6K views   \n",
       "2              GSoC 2025 | Everything You Need to Know   30K views   \n",
       "3                           Why can't Gen Z get a job?  1.7K views   \n",
       "4                 Prompts to 10x Your Coding Journey 🚀    3K views   \n",
       "..                                                 ...         ...   \n",
       "280  Master Data Science Concepts: Data Lake in 60 ...  2.6K views   \n",
       "281  Choosing the Right Cloud Provider | AWS vs Azu...  8.9K views   \n",
       "282  A Journey from NOKIA to PAYPAL | Ft. Palak Awa...  3.3K views   \n",
       "283  Make Best Team For ICC Cricket World 2023 | Pr...   484 views   \n",
       "284  Interview Strategies for Freshers | GeeksforGeeks  5.9K views   \n",
       "\n",
       "       date_time                                video_link  \\\n",
       "0     4 days ago  /watch?v=1WCuuJYvPFc&pp=0gcJCb8Ag7Wk3p_U   \n",
       "1     6 days ago  /watch?v=j_qF5z5jazY&pp=0gcJCb8Ag7Wk3p_U   \n",
       "2    13 days ago                      /watch?v=4U8t0WUQGps   \n",
       "3    2 weeks ago                      /watch?v=JZo33ruBBDA   \n",
       "4    2 weeks ago                      /watch?v=N2FP3BbyrqY   \n",
       "..           ...                                       ...   \n",
       "280   1 year ago                      /watch?v=KGD-T3bhFEA   \n",
       "281   1 year ago                      /watch?v=YbPnhezNaUE   \n",
       "282   1 year ago                      /watch?v=6UUTPA0l748   \n",
       "283   1 year ago                      /watch?v=ItY3minkI3o   \n",
       "284   1 year ago                      /watch?v=tmg6d3T_T6Q   \n",
       "\n",
       "                               thumbnail_link  \n",
       "0    /watch?v=1WCuuJYvPFc&pp=0gcJCb8Ag7Wk3p_U  \n",
       "1    /watch?v=j_qF5z5jazY&pp=0gcJCb8Ag7Wk3p_U  \n",
       "2                        /watch?v=4U8t0WUQGps  \n",
       "3                        /watch?v=JZo33ruBBDA  \n",
       "4                        /watch?v=N2FP3BbyrqY  \n",
       "..                                        ...  \n",
       "280                      /watch?v=KGD-T3bhFEA  \n",
       "281                      /watch?v=YbPnhezNaUE  \n",
       "282                      /watch?v=6UUTPA0l748  \n",
       "283                      /watch?v=ItY3minkI3o  \n",
       "284                      /watch?v=tmg6d3T_T6Q  \n",
       "\n",
       "[285 rows x 5 columns]"
      ]
     },
     "execution_count": 91,
     "metadata": {},
     "output_type": "execute_result"
    }
   ],
   "source": [
    "df"
   ]
  },
  {
   "cell_type": "code",
   "execution_count": 92,
   "id": "3b36cf89",
   "metadata": {},
   "outputs": [
    {
     "data": {
      "text/plain": [
       "title             0\n",
       "views             0\n",
       "date_time         0\n",
       "video_link        0\n",
       "thumbnail_link    0\n",
       "dtype: int64"
      ]
     },
     "execution_count": 92,
     "metadata": {},
     "output_type": "execute_result"
    }
   ],
   "source": [
    "df.isnull().sum()"
   ]
  },
  {
   "cell_type": "code",
   "execution_count": 93,
   "id": "73885f46",
   "metadata": {},
   "outputs": [],
   "source": [
    "df.to_csv('data.csv',index = False)"
   ]
  },
  {
   "cell_type": "code",
   "execution_count": null,
   "id": "0d38f0ee",
   "metadata": {},
   "outputs": [],
   "source": []
  }
 ],
 "metadata": {
  "kernelspec": {
   "display_name": "Python 3 (ipykernel)",
   "language": "python",
   "name": "python3"
  },
  "language_info": {
   "codemirror_mode": {
    "name": "ipython",
    "version": 3
   },
   "file_extension": ".py",
   "mimetype": "text/x-python",
   "name": "python",
   "nbconvert_exporter": "python",
   "pygments_lexer": "ipython3",
   "version": "3.12.7"
  }
 },
 "nbformat": 4,
 "nbformat_minor": 5
}
